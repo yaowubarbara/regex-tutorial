{
 "cells": [
  {
   "cell_type": "markdown",
   "id": "d5a53fd9",
   "metadata": {},
   "source": [
    "regex replacement"
   ]
  },
  {
   "cell_type": "code",
   "execution_count": 2,
   "id": "34a20d15",
   "metadata": {},
   "outputs": [],
   "source": [
    "### replace all instances of 'PHP' with \"python\" in a text."
   ]
  },
  {
   "cell_type": "code",
   "execution_count": 5,
   "id": "6e03bee8",
   "metadata": {},
   "outputs": [],
   "source": [
    "import re"
   ]
  },
  {
   "cell_type": "code",
   "execution_count": 8,
   "id": "abda1350",
   "metadata": {},
   "outputs": [],
   "source": [
    "def php(s):\n",
    "    pattern = 'PHP'\n",
    "    return re.sub(pattern, 'Python', s)"
   ]
  },
  {
   "cell_type": "code",
   "execution_count": 9,
   "id": "242ffdeb",
   "metadata": {},
   "outputs": [
    {
     "data": {
      "text/plain": [
       "'we will use Python today.'"
      ]
     },
     "execution_count": 9,
     "metadata": {},
     "output_type": "execute_result"
    }
   ],
   "source": [
    "php('we will use PHP today.')"
   ]
  },
  {
   "cell_type": "code",
   "execution_count": 10,
   "id": "7257e490",
   "metadata": {},
   "outputs": [],
   "source": [
    "### change '.io' to '.com' in an email adress"
   ]
  },
  {
   "cell_type": "code",
   "execution_count": 28,
   "id": "dd9cae5a",
   "metadata": {},
   "outputs": [],
   "source": [
    "def iocom(s):\n",
    "    pattern = r'([A-Za-z0-9-_+.]+@[A-Za-z0-9]+)\\.(io)'\n",
    "    return re.sub(pattern, r'\\1.com', s)"
   ]
  },
  {
   "cell_type": "code",
   "execution_count": 29,
   "id": "c476d8f4",
   "metadata": {},
   "outputs": [
    {
     "data": {
      "text/plain": [
       "'sre2543t5@224123.com'"
      ]
     },
     "execution_count": 29,
     "metadata": {},
     "output_type": "execute_result"
    }
   ],
   "source": [
    "iocom('sre2543t5@224123.io')"
   ]
  },
  {
   "cell_type": "code",
   "execution_count": 34,
   "id": "e44c4da8",
   "metadata": {},
   "outputs": [
    {
     "data": {
      "text/plain": [
       "\"my email is sre2543t5@224123.com, my friend's is euioeuti@isad.com\""
      ]
     },
     "execution_count": 34,
     "metadata": {},
     "output_type": "execute_result"
    }
   ],
   "source": [
    "iocom(\"my email is sre2543t5@224123.io, my friend's is euioeuti@isad.io\")\n"
   ]
  },
  {
   "cell_type": "code",
   "execution_count": null,
   "id": "5334d5a7",
   "metadata": {},
   "outputs": [],
   "source": []
  }
 ],
 "metadata": {
  "kernelspec": {
   "display_name": "Python 3 (ipykernel)",
   "language": "python",
   "name": "python3"
  },
  "language_info": {
   "codemirror_mode": {
    "name": "ipython",
    "version": 3
   },
   "file_extension": ".py",
   "mimetype": "text/x-python",
   "name": "python",
   "nbconvert_exporter": "python",
   "pygments_lexer": "ipython3",
   "version": "3.9.12"
  }
 },
 "nbformat": 4,
 "nbformat_minor": 5
}
