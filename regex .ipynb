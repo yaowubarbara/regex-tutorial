{
 "cells": [
  {
   "cell_type": "markdown",
   "id": "ae14c1b3",
   "metadata": {},
   "source": [
    "<font size=\"18\">regex match</font>\n",
    "\n"
   ]
  },
  {
   "cell_type": "code",
   "execution_count": null,
   "id": "fbedf50d",
   "metadata": {},
   "outputs": [],
   "source": [
    "import re"
   ]
  },
  {
   "cell_type": "code",
   "execution_count": 44,
   "id": "64d5c2e7",
   "metadata": {},
   "outputs": [],
   "source": [
    "def onlylettersandnumbers(s):\n",
    "    pattern='^[A-Za-z0-9]+$'\n",
    "    return bool(re.findall(pattern,s))"
   ]
  },
  {
   "cell_type": "code",
   "execution_count": 45,
   "id": "d7ca8799",
   "metadata": {},
   "outputs": [
    {
     "data": {
      "text/plain": [
       "False"
      ]
     },
     "execution_count": 45,
     "metadata": {},
     "output_type": "execute_result"
    }
   ],
   "source": [
    "onlylettersandnumbers('sadsaf21423223-')"
   ]
  },
  {
   "cell_type": "code",
   "execution_count": 46,
   "id": "337bbd99",
   "metadata": {},
   "outputs": [
    {
     "data": {
      "text/plain": [
       "<re.Match object; span=(0, 14), match='sadsaf21423223'>"
      ]
     },
     "execution_count": 46,
     "metadata": {},
     "output_type": "execute_result"
    }
   ],
   "source": [
    "re.match('[A-Za-z0-9]*','sadsaf21423223-')"
   ]
  },
  {
   "cell_type": "code",
   "execution_count": 47,
   "id": "7e5b89f3",
   "metadata": {},
   "outputs": [],
   "source": [
    "def nolettersornumbers(s):\n",
    "    pattern ='^[^a-zA-Z0-9]+$'\n",
    "    return bool(re.findall(pattern,s))"
   ]
  },
  {
   "cell_type": "code",
   "execution_count": 8,
   "id": "25cdfb13",
   "metadata": {},
   "outputs": [
    {
     "data": {
      "text/plain": [
       "False"
      ]
     },
     "execution_count": 8,
     "metadata": {},
     "output_type": "execute_result"
    }
   ],
   "source": [
    "nolettersornumbers('-bjb')"
   ]
  },
  {
   "cell_type": "code",
   "execution_count": 9,
   "id": "040d969a",
   "metadata": {},
   "outputs": [],
   "source": [
    "re.match( '^[^a-zA-Z0-9]+$','dsa1902391-1')"
   ]
  },
  {
   "cell_type": "code",
   "execution_count": 10,
   "id": "e582dbdb",
   "metadata": {},
   "outputs": [],
   "source": [
    "def masterschool(s):\n",
    "    pattern = '^(masterchoo|MA)$'\n",
    "    return bool(re.fullmatch(pattern,s))"
   ]
  },
  {
   "cell_type": "code",
   "execution_count": 11,
   "id": "60b2b03c",
   "metadata": {},
   "outputs": [
    {
     "data": {
      "text/plain": [
       "False"
      ]
     },
     "execution_count": 11,
     "metadata": {},
     "output_type": "execute_result"
    }
   ],
   "source": [
    "masterschool('safs')"
   ]
  },
  {
   "cell_type": "code",
   "execution_count": 12,
   "id": "879306b8",
   "metadata": {},
   "outputs": [
    {
     "data": {
      "text/plain": [
       "<re.Match object; span=(0, 2), match='MA'>"
      ]
     },
     "execution_count": 12,
     "metadata": {},
     "output_type": "execute_result"
    }
   ],
   "source": [
    "re.match('^(masterchoo|MA)$','MA')"
   ]
  },
  {
   "cell_type": "code",
   "execution_count": 13,
   "id": "80f29688",
   "metadata": {},
   "outputs": [
    {
     "data": {
      "text/plain": [
       "<re.Match object; span=(0, 14), match='sadsaf21423223'>"
      ]
     },
     "execution_count": 13,
     "metadata": {},
     "output_type": "execute_result"
    }
   ],
   "source": [
    "re.match('[A-Za-z0-9]*','sadsaf21423223-')"
   ]
  },
  {
   "cell_type": "code",
   "execution_count": 14,
   "id": "e0687ad9",
   "metadata": {},
   "outputs": [],
   "source": [
    "def numberphone(s):\n",
    "    pattern = '\\(?\\d{3}\\)?[\\s.-]?\\d{3}[\\s.-]?\\d{4}'\n",
    "    return bool(re.fullmatch(pattern,s))"
   ]
  },
  {
   "cell_type": "code",
   "execution_count": 17,
   "id": "efa47a84",
   "metadata": {},
   "outputs": [
    {
     "data": {
      "text/plain": [
       "True"
      ]
     },
     "execution_count": 17,
     "metadata": {},
     "output_type": "execute_result"
    }
   ],
   "source": [
    "numberphone('2819388291')"
   ]
  },
  {
   "cell_type": "code",
   "execution_count": 23,
   "id": "43451975",
   "metadata": {},
   "outputs": [],
   "source": [
    "def validipadress(s):\n",
    "    pattern = '^((25[0-5]|(2[0-4]|1[0-9]|[1-9]|)[0-9])(\\.(?!$)|$)){4}$'\n",
    "    return bool(re.fullmatch(pattern,s))"
   ]
  },
  {
   "cell_type": "code",
   "execution_count": 25,
   "id": "110c1a81",
   "metadata": {},
   "outputs": [
    {
     "data": {
      "text/plain": [
       "False"
      ]
     },
     "execution_count": 25,
     "metadata": {},
     "output_type": "execute_result"
    }
   ],
   "source": [
    "validipadress('209.244.234.233.')"
   ]
  },
  {
   "cell_type": "code",
   "execution_count": 29,
   "id": "a3c5b775",
   "metadata": {},
   "outputs": [],
   "source": [
    "def validemailadress(s):\n",
    "    pattern='^[A-Za-z0-9-+_.]+@[A-Za-z0-9]+.[a-z]+$'\n",
    "    return bool(re.fullmatch(pattern,s))"
   ]
  },
  {
   "cell_type": "code",
   "execution_count": 30,
   "id": "3860a444",
   "metadata": {},
   "outputs": [
    {
     "data": {
      "text/plain": [
       "True"
      ]
     },
     "execution_count": 30,
     "metadata": {},
     "output_type": "execute_result"
    }
   ],
   "source": [
    "validemailadress('wubarbara.ss@gmail.com')"
   ]
  },
  {
   "cell_type": "code",
   "execution_count": 31,
   "id": "0904b18b",
   "metadata": {},
   "outputs": [
    {
     "data": {
      "text/plain": [
       "<re.Match object; span=(0, 22), match='wubarbara.ss@gmail.com'>"
      ]
     },
     "execution_count": 31,
     "metadata": {},
     "output_type": "execute_result"
    }
   ],
   "source": [
    "re.match('^[A-Za-z0-9-+_.]+@[A-Za-z0-9]+.[a-z]+$', 'wubarbara.ss@gmail.com')"
   ]
  },
  {
   "cell_type": "code",
   "execution_count": 37,
   "id": "99a50d23",
   "metadata": {},
   "outputs": [],
   "source": [
    "###how to write at least 7 characters\n",
    "###least one lowercase, one uppercase and one special case in regex\n",
    "\n",
    "def aslus(s):\n",
    "    pattern='^(?=.{7,})(?=.*[A-Z])(?=.*[a-z])(?=.*[-%$#@!^&*()?]).*$'\n",
    "    return bool(re.fullmatch(pattern,s))"
   ]
  },
  {
   "cell_type": "code",
   "execution_count": 40,
   "id": "231f8a37",
   "metadata": {},
   "outputs": [
    {
     "data": {
      "text/plain": [
       "False"
      ]
     },
     "execution_count": 40,
     "metadata": {},
     "output_type": "execute_result"
    }
   ],
   "source": [
    "aslus('DErt09274dsa235000:')"
   ]
  },
  {
   "cell_type": "markdown",
   "id": "d4472359",
   "metadata": {},
   "source": [
    "<font size=\"18\">regex extraction</font>"
   ]
  },
  {
   "cell_type": "code",
   "execution_count": 55,
   "id": "66d96232",
   "metadata": {},
   "outputs": [],
   "source": [
    "### from a phone number extract the country code\n",
    "\n",
    "def phonecodeextraction(phone_number):\n",
    "    pattern='^(\\+\\d+)\\s(.+)$'\n",
    "    return re.match(pattern,phone_number).group(1)"
   ]
  },
  {
   "cell_type": "code",
   "execution_count": 56,
   "id": "a5742005",
   "metadata": {},
   "outputs": [
    {
     "data": {
      "text/plain": [
       "'+33'"
      ]
     },
     "execution_count": 56,
     "metadata": {},
     "output_type": "execute_result"
    }
   ],
   "source": [
    "phonecodeextraction('+33 76 10 37 26 26')"
   ]
  },
  {
   "cell_type": "code",
   "execution_count": 57,
   "id": "67bf5ad9",
   "metadata": {},
   "outputs": [],
   "source": [
    "### from an email, extract the domain\n",
    "\n",
    "def emaildomainextraction(email):\n",
    "    pattern = '^.+@(.+)\\..+$'\n",
    "    return re.match(pattern,email).group(1)"
   ]
  },
  {
   "cell_type": "code",
   "execution_count": 58,
   "id": "6ba8c059",
   "metadata": {},
   "outputs": [
    {
     "data": {
      "text/plain": [
       "'ghiso'"
      ]
     },
     "execution_count": 58,
     "metadata": {},
     "output_type": "execute_result"
    }
   ],
   "source": [
    "emaildomainextraction('skljkjhyao@ghiso.com')"
   ]
  },
  {
   "cell_type": "code",
   "execution_count": 67,
   "id": "c7f753db",
   "metadata": {},
   "outputs": [],
   "source": [
    "### from a paragraphe of french text, extract a list of the proper nouns\n",
    "def extractpropernouns(text):\n",
    "    pattern=r'\\b[A-Z][a-z]+\\b'\n",
    "    return re.findall(pattern,text)\n",
    "    "
   ]
  },
  {
   "cell_type": "code",
   "execution_count": 68,
   "id": "151ed3dd",
   "metadata": {},
   "outputs": [
    {
     "data": {
      "text/plain": [
       "['Il', 'Il', 'Ne', 'Marthe', 'Il']"
      ]
     },
     "execution_count": 68,
     "metadata": {},
     "output_type": "execute_result"
    }
   ],
   "source": [
    "extractpropernouns('Il fut surpris de se réveiller le lendemain au poste. Il tenta de se rappeler les méfaits qu’il avait bien pu commettre. Ne les retrouvant point, il conclut judicieusement qu’il s’était pochardé ; soudain, il se rappela avoir rencontré Marthe, l’avoir suivie jusque dans une petite ruelle dont le nom lui échappait. J’ai rêvé, dit-il, c’est impossible. Il se promit cependant, connaissant l’adresse de Léo, d’aller chez lui aussitôt qu’il serait relaxé.')"
   ]
  },
  {
   "cell_type": "code",
   "execution_count": null,
   "id": "41057bf3",
   "metadata": {},
   "outputs": [],
   "source": [
    "### from a paragraph of french text, extract a list of all mentioned dates"
   ]
  },
  {
   "cell_type": "code",
   "execution_count": 88,
   "id": "43992e5a",
   "metadata": {},
   "outputs": [],
   "source": [
    "def dateextracttion(s):\n",
    "    pattern = \"\\d{2}[/-]\\d{2}[/-]\\d{4}\"\n",
    "    return re.findall(pattern,s)"
   ]
  },
  {
   "cell_type": "code",
   "execution_count": 89,
   "id": "13b396db",
   "metadata": {},
   "outputs": [
    {
     "data": {
      "text/plain": [
       "['23/09/2022', '01/08/2022']"
      ]
     },
     "execution_count": 89,
     "metadata": {},
     "output_type": "execute_result"
    }
   ],
   "source": [
    "s = 'la class aura lieu le 23/09/2022 à 13:00. La date limite d\\'inscription est le 01/08/2022.'\n",
    "dateextracttion(s)"
   ]
  },
  {
   "cell_type": "code",
   "execution_count": 90,
   "id": "7572cc0a",
   "metadata": {},
   "outputs": [],
   "source": [
    "### to store the date as python datetime projects\n",
    "import datetime"
   ]
  },
  {
   "cell_type": "code",
   "execution_count": 99,
   "id": "bdedf61b",
   "metadata": {},
   "outputs": [],
   "source": [
    "pythondate=[]\n",
    "for i in dateextracttion(s):\n",
    "    pythondate.append(datetime.datetime.strptime(i,\"%d/%m/%Y\"))"
   ]
  },
  {
   "cell_type": "code",
   "execution_count": 100,
   "id": "5df965da",
   "metadata": {},
   "outputs": [
    {
     "name": "stdout",
     "output_type": "stream",
     "text": [
      "pythonproject:[datetime.datetime(2022, 9, 23, 0, 0), datetime.datetime(2022, 8, 1, 0, 0)]\n"
     ]
    }
   ],
   "source": [
    "print(f'pythonproject:{pythondate}')"
   ]
  },
  {
   "cell_type": "code",
   "execution_count": null,
   "id": "4df0de4b",
   "metadata": {},
   "outputs": [],
   "source": []
  }
 ],
 "metadata": {
  "kernelspec": {
   "display_name": "Python 3 (ipykernel)",
   "language": "python",
   "name": "python3"
  },
  "language_info": {
   "codemirror_mode": {
    "name": "ipython",
    "version": 3
   },
   "file_extension": ".py",
   "mimetype": "text/x-python",
   "name": "python",
   "nbconvert_exporter": "python",
   "pygments_lexer": "ipython3",
   "version": "3.9.12"
  }
 },
 "nbformat": 4,
 "nbformat_minor": 5
}
